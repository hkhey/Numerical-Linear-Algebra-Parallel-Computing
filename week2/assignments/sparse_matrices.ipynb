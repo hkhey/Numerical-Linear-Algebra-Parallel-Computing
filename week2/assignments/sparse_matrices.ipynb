{
 "cells": [
  {
   "cell_type": "markdown",
   "id": "aea03da3",
   "metadata": {},
   "source": [
    "In this assignement, feel free to use the `sparse` module from `scipy`."
   ]
  },
  {
   "cell_type": "markdown",
   "id": "2df42bcc",
   "metadata": {},
   "source": [
    "Use the cell below for your imports."
   ]
  },
  {
   "cell_type": "code",
   "execution_count": 30,
   "id": "e9644e55",
   "metadata": {},
   "outputs": [],
   "source": [
    "import numpy as np\n",
    "from scipy.sparse import coo_matrix\n",
    "from itertools import zip_longest\n",
    "from scipy.sparse import csr_matrix\n"
   ]
  },
  {
   "cell_type": "markdown",
   "id": "8948a816",
   "metadata": {},
   "source": [
    "implement the function `mat_mul_coo` that takes two sparse matrices in `coo` and returns their product."
   ]
  },
  {
   "cell_type": "code",
   "execution_count": 45,
   "id": "6047ee0e",
   "metadata": {},
   "outputs": [],
   "source": [
    "def mat_mul_coo(A, B):\n",
    "    assert A.shape[1] == B.shape[0], \"Error: The dimensions of the matrices being multiplied do not match. Please check the dimensions of your input matrices and try again.\"\n",
    "    \n",
    "    A = coo_matrix(A)\n",
    "    B = coo_matrix(B)\n",
    "\n",
    "    A_data = A.data\n",
    "    A_row = A.row\n",
    "    A_col = A.col\n",
    "\n",
    "    B_data = B.data\n",
    "    B_row = B.row\n",
    "    B_col = B.col\n",
    "\n",
    "    # Create a dictionary to store the product of A and B\n",
    "    product_dict = {}\n",
    "    \n",
    "    for i in range(A.shape[0]):\n",
    "        # Find the indices where A_row == i which means Find the indices of non-zero elements in the i-th row of A\n",
    "        indices_A = np.where(A_row == i)[0]\n",
    "        for j in range(B.shape[1]):\n",
    "            # Find the indices where B_row == i\n",
    "            indices_B = np.where(B_col == j)[0]            \n",
    "            # Compute the product of the i-th row of A and the j-th column of B\n",
    "            product = 0\n",
    "            for k in indices_A:\n",
    "                if A_col[k] in indices_B:\n",
    "                    product += A_data[k] * B_data[np.where((B_row == A_col[k]) & (B_col == j))[0][0]]\n",
    "            \n",
    "            # Add the product to the dictionary if it's not zero as we will store the result in a coo format\n",
    "            if product != 0:\n",
    "                product_dict[(i, j)] = product\n",
    "                \n",
    "    # Convert the dictionary to COO format and return the result\n",
    "    product_row, product_col, product_data = [], [], []\n",
    "    for (i, j), value in product_dict.items():\n",
    "        product_row.append(i)\n",
    "        product_col.append(j)\n",
    "        product_data.append(value)\n",
    "    product = coo_matrix((product_data, (product_row, product_col)), shape=(A.shape[0], B.shape[1]))\n",
    "    return product\n"
   ]
  },
  {
   "cell_type": "code",
   "execution_count": 46,
   "id": "53530892",
   "metadata": {
    "scrolled": true
   },
   "outputs": [
    {
     "name": "stdout",
     "output_type": "stream",
     "text": [
      "A_row [0 0 1 2 2] i 0 indices [0 1]\n",
      "A_row [0 0 1 2 2] i 1 indices [2]\n",
      "A_row [0 0 1 2 2] i 2 indices [3 4]\n",
      "[[ 0  7]\n",
      " [ 6  0]\n",
      " [ 0 19]]\n"
     ]
    }
   ],
   "source": [
    "A = np.array([[1, 0, 2], [0, 3, 0], [4, 0, 5]])\n",
    "B = np.array([[0, 1], [2, 0], [0, 3]])\n",
    "product = mat_mul_coo(A, B)\n",
    "print(product.toarray())\n"
   ]
  },
  {
   "cell_type": "markdown",
   "id": "4a626dec",
   "metadata": {},
   "source": [
    "implement the function `mat_mul_csr` that takes two sparse matrices in `csr` format and returns their product."
   ]
  },
  {
   "cell_type": "code",
   "execution_count": 111,
   "id": "c2e56fbd",
   "metadata": {},
   "outputs": [],
   "source": [
    "from scipy.sparse import csr_matrix\n",
    "import numpy as np\n",
    "\n",
    "def csr_matrix_multiply(A, B):\n",
    "    if A.shape[1] != B.shape[0]:\n",
    "        raise ValueError(\"The number of columns in A must match the number of rows in B.\")\n",
    "    \n",
    "    rows_C = []\n",
    "    cols_C = []\n",
    "    data_C = []\n",
    "    ptrs_C = [0]\n",
    "    \n",
    "    for i in range(A.shape[0]):\n",
    "        for j in range(B.shape[1]):\n",
    "            dot_product = 0\n",
    "            for k_A in range(A.indptr[i], A.indptr[i+1]):\n",
    "                k_B = B.indptr[A.indices[k_A]]\n",
    "                while k_B < B.indptr[A.indices[k_A]+1] and B.indices[k_B] <= j:\n",
    "                    if B.indices[k_B] == j:\n",
    "                        dot_product += A.data[k_A] * B.data[k_B]\n",
    "                    k_B += 1\n",
    "            if dot_product != 0:\n",
    "                rows_C.append(i)\n",
    "                cols_C.append(j)\n",
    "                data_C.append(dot_product)\n",
    "        ptrs_C.append(len(data_C))\n",
    "    \n",
    "    C = csr_matrix((data_C, (rows_C, cols_C)), shape=(A.shape[0], B.shape[1]))\n",
    "    C.indptr = np.array(ptrs_C)\n",
    "    \n",
    "    return C\n"
   ]
  },
  {
   "cell_type": "code",
   "execution_count": 112,
   "id": "daf2951a",
   "metadata": {},
   "outputs": [
    {
     "data": {
      "text/plain": [
       "array([[ 5,  0],\n",
       "       [ 0, 12]], dtype=int32)"
      ]
     },
     "execution_count": 112,
     "metadata": {},
     "output_type": "execute_result"
    }
   ],
   "source": [
    "# Create two sparse matrices in CSR format\n",
    "A = csr_matrix(([1, 2, 3], ([0, 0, 1], [1, 2, 0])), shape=(2, 3))\n",
    "B = csr_matrix(([4, 5], ([0, 1], [1, 0])), shape=(3, 2))\n",
    "\n",
    "C = mat_mul_csr(A, B)\n",
    "\n",
    "C.toarray()"
   ]
  },
  {
   "cell_type": "markdown",
   "id": "9592a90b",
   "metadata": {},
   "source": [
    "implement a function `solve_lin_sys` that takes a matrix `A` in `csr` format and a vector `b` as a numpy array and solves the system `Ax = b`."
   ]
  },
  {
   "cell_type": "code",
   "execution_count": 208,
   "id": "8370ab00",
   "metadata": {},
   "outputs": [
    {
     "name": "stdout",
     "output_type": "stream",
     "text": [
      "[-5.0000000000000036, 14.000000000000005, 1.9999999999999993]\n"
     ]
    }
   ],
   "source": [
    "def gauss_elimination(A_data, A_indices, A_indptr, b):\n",
    "    # Convert the matrix to CSR format\n",
    "    A = csr_matrix((A_data, A_indices, A_indptr)).toarray()\n",
    "    n = A.shape[0]\n",
    "    print(A)\n",
    "    # Gaussian elimination with partial pivoting\n",
    "    for i in range(n):\n",
    "        # Find row with largest absolute value in current column\n",
    "        max_row = i\n",
    "        for j in range(i+1, n):\n",
    "            if abs(A[j][i]) > abs(A[max_row][i]):\n",
    "                max_row = j\n",
    "        \n",
    "        # Swap rows i and max_row if pivot element is zero\n",
    "        if A[max_row][i] == 0:\n",
    "            return None  # No unique solution\n",
    "        if i != max_row:\n",
    "            A[i], A[max_row] = A[max_row], A[i]\n",
    "            b[i], b[max_row] = b[max_row], b[i]\n",
    "        \n",
    "        # Eliminate current column in rows below i\n",
    "        for j in range(i+1, n):\n",
    "            factor = A[j][i] / A[i][i]\n",
    "            for k in range(i, n):\n",
    "                A[j][k] -= factor * A[i][k]\n",
    "            b[j] -= factor * b[i]\n",
    "    \n",
    "    # Check for zero pivot elements in the upper triangular matrix\n",
    "    for i in range(n):\n",
    "        if A[i][i] == 0:\n",
    "            return None  # No unique solution\n",
    "    \n",
    "    # Back-substitution\n",
    "    x = [0] * n\n",
    "    for i in range(n-1, -1, -1):\n",
    "        x[i] = b[i]\n",
    "        for j in range(i+1, n):\n",
    "            x[i] -= A[i][j] * x[j]\n",
    "        x[i] /= A[i][i]\n",
    "    \n",
    "    return x\n",
    "\n",
    "\n",
    "# Define the matrix in CSR format\n",
    "data = np.array([2, 1, 1, 3, 2, 1, 2, 2, 5])\n",
    "indices = np.array([0, 1, 2, 0, 1, 2, 0, 1, 2])\n",
    "indptr = np.array([0, 3, 6, 9])\n",
    "# Define the right-hand side vector\n",
    "b = [6, 15, 28]\n",
    "\n",
    "# Solve the system using Gaussian elimination\n",
    "gauss_elimination(data, indices, indptr, b)"
   ]
  },
  {
   "cell_type": "code",
   "execution_count": null,
   "id": "d91dfab6",
   "metadata": {},
   "outputs": [],
   "source": []
  }
 ],
 "metadata": {
  "kernelspec": {
   "display_name": "Python 3 (ipykernel)",
   "language": "python",
   "name": "python3"
  },
  "language_info": {
   "codemirror_mode": {
    "name": "ipython",
    "version": 3
   },
   "file_extension": ".py",
   "mimetype": "text/x-python",
   "name": "python",
   "nbconvert_exporter": "python",
   "pygments_lexer": "ipython3",
   "version": "3.9.12"
  }
 },
 "nbformat": 4,
 "nbformat_minor": 5
}
